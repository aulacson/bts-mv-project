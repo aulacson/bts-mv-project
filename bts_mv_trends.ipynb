{
 "cells": [
  {
   "cell_type": "markdown",
   "metadata": {},
   "source": [
    "# BTS MV Trends\n",
    "\n",
    "BTS is a K-pop group that has gained international recognition over the years. Since their debut in 2013, they have released multiple music videos with various genres. This project aims to extract data from the group's official music videos in youtube using the youtube API and look at the trends of these data."
   ]
  },
  {
   "cell_type": "markdown",
   "metadata": {},
   "source": [
    "## Data Cleaning\n",
    "\n",
    "Given the JSON File extracted from the youtube API, we will be getting a dataframe of BTS official music videos and its relevant video details. "
   ]
  },
  {
   "cell_type": "code",
   "execution_count": 1,
   "metadata": {},
   "outputs": [
    {
     "data": {
      "text/plain": [
       "Index(['kind', 'etag', 'id', 'snippet.publishedAt', 'snippet.channelId',\n",
       "       'snippet.title', 'snippet.description',\n",
       "       'snippet.thumbnails.default.url', 'snippet.thumbnails.default.width',\n",
       "       'snippet.thumbnails.default.height', 'snippet.thumbnails.medium.url',\n",
       "       'snippet.thumbnails.medium.width', 'snippet.thumbnails.medium.height',\n",
       "       'snippet.thumbnails.high.url', 'snippet.thumbnails.high.width',\n",
       "       'snippet.thumbnails.high.height', 'snippet.thumbnails.standard.url',\n",
       "       'snippet.thumbnails.standard.width',\n",
       "       'snippet.thumbnails.standard.height', 'snippet.thumbnails.maxres.url',\n",
       "       'snippet.thumbnails.maxres.width', 'snippet.thumbnails.maxres.height',\n",
       "       'snippet.channelTitle', 'snippet.tags', 'snippet.categoryId',\n",
       "       'snippet.liveBroadcastContent', 'snippet.defaultLanguage',\n",
       "       'snippet.localized.title', 'snippet.localized.description',\n",
       "       'snippet.defaultAudioLanguage', 'contentDetails.duration',\n",
       "       'contentDetails.dimension', 'contentDetails.definition',\n",
       "       'contentDetails.caption', 'contentDetails.licensedContent',\n",
       "       'contentDetails.projection', 'statistics.viewCount',\n",
       "       'statistics.likeCount', 'statistics.favoriteCount',\n",
       "       'statistics.commentCount'],\n",
       "      dtype='object')"
      ]
     },
     "execution_count": 1,
     "metadata": {},
     "output_type": "execute_result"
    }
   ],
   "source": [
    "import json\n",
    "import pandas as pd\n",
    "import re\n",
    "\n",
    "file = open('bts_official_mv_data.json')\n",
    "\n",
    "bts_official_mv_data = json.load(file)\n",
    "\n",
    "raw_df = pd.json_normalize(bts_official_mv_data['items'])\n",
    "\n",
    "raw_df.columns"
   ]
  },
  {
   "cell_type": "code",
   "execution_count": 2,
   "metadata": {},
   "outputs": [
    {
     "name": "stdout",
     "output_type": "stream",
     "text": [
      "<class 'pandas.core.frame.DataFrame'>\n",
      "RangeIndex: 55 entries, 0 to 54\n",
      "Data columns (total 8 columns):\n",
      " #   Column              Non-Null Count  Dtype \n",
      "---  ------              --------------  ----- \n",
      " 0   Video ID            55 non-null     object\n",
      " 1   Date                55 non-null     object\n",
      " 2   Title               55 non-null     object\n",
      " 3   Description         55 non-null     object\n",
      " 4   Duration            55 non-null     object\n",
      " 5   Number of Views     55 non-null     object\n",
      " 6   Number of Likes     51 non-null     object\n",
      " 7   Number of Comments  55 non-null     object\n",
      "dtypes: object(8)\n",
      "memory usage: 3.6+ KB\n"
     ]
    }
   ],
   "source": [
    "# filter dataframe to reflect relevant columns only\n",
    "relevant_details= ['id', 'snippet.publishedAt', 'snippet.title', 'snippet.description', 'contentDetails.duration', 'statistics.viewCount', 'statistics.likeCount', 'statistics.commentCount']\n",
    "df = raw_df.loc[:, relevant_details]\n",
    "\n",
    "# rename columns\n",
    "column_names = ['Video ID', 'Date', 'Title', 'Description', 'Duration', 'Number of Views', 'Number of Likes', 'Number of Comments']\n",
    "df.columns = column_names\n",
    "\n",
    "# check for null values and data types\n",
    "df.info()"
   ]
  },
  {
   "cell_type": "code",
   "execution_count": 3,
   "metadata": {},
   "outputs": [
    {
     "data": {
      "text/html": [
       "<div>\n",
       "<style scoped>\n",
       "    .dataframe tbody tr th:only-of-type {\n",
       "        vertical-align: middle;\n",
       "    }\n",
       "\n",
       "    .dataframe tbody tr th {\n",
       "        vertical-align: top;\n",
       "    }\n",
       "\n",
       "    .dataframe thead th {\n",
       "        text-align: right;\n",
       "    }\n",
       "</style>\n",
       "<table border=\"1\" class=\"dataframe\">\n",
       "  <thead>\n",
       "    <tr style=\"text-align: right;\">\n",
       "      <th></th>\n",
       "      <th>Video ID</th>\n",
       "      <th>Date</th>\n",
       "      <th>Title</th>\n",
       "      <th>Description</th>\n",
       "      <th>Duration</th>\n",
       "      <th>Number of Views</th>\n",
       "      <th>Number of Likes</th>\n",
       "      <th>Number of Comments</th>\n",
       "    </tr>\n",
       "  </thead>\n",
       "  <tbody>\n",
       "    <tr>\n",
       "      <th>38</th>\n",
       "      <td>a16gTN7kOWU</td>\n",
       "      <td>2016-03-11T09:00:01Z</td>\n",
       "      <td>BTS (防弾少年団) 'RUN -Japanese Ver.-' Official MV</td>\n",
       "      <td>防弾少年団、3月15日発売の日本6thシングル RUN -Japanese Ver.- のM...</td>\n",
       "      <td>PT3M56S</td>\n",
       "      <td>29981629</td>\n",
       "      <td>NaN</td>\n",
       "      <td>27571</td>\n",
       "    </tr>\n",
       "    <tr>\n",
       "      <th>39</th>\n",
       "      <td>LYAcYSmaLoc</td>\n",
       "      <td>2015-12-02T06:00:01Z</td>\n",
       "      <td>BTS (防弾少年団) 'I NEED U (Japanese Ver.)' Officia...</td>\n",
       "      <td>防弾少年団、12月8日発売の日本5thシングル I NEED U (Japanese Ver...</td>\n",
       "      <td>PT3M40S</td>\n",
       "      <td>48225529</td>\n",
       "      <td>NaN</td>\n",
       "      <td>24660</td>\n",
       "    </tr>\n",
       "    <tr>\n",
       "      <th>42</th>\n",
       "      <td>ULStzgQYrqk</td>\n",
       "      <td>2015-06-17T03:00:01Z</td>\n",
       "      <td>BTS (防弾少年団) 'FOR YOU' Official MV (Dance Ver.)</td>\n",
       "      <td>防弾少年団、6月17日発売の日本4thシングル「FOR YOU」のミュージックビデオのダンス...</td>\n",
       "      <td>PT4M46S</td>\n",
       "      <td>28138590</td>\n",
       "      <td>NaN</td>\n",
       "      <td>16225</td>\n",
       "    </tr>\n",
       "    <tr>\n",
       "      <th>43</th>\n",
       "      <td>TTG6nxwdhyA</td>\n",
       "      <td>2015-06-05T03:00:00Z</td>\n",
       "      <td>BTS (防弾少年団) 'FOR YOU' Official MV</td>\n",
       "      <td>防弾少年団、6月17日発売の日本4thシングル「FOR YOU」のミュージックビデオ。\\nオ...</td>\n",
       "      <td>PT5M7S</td>\n",
       "      <td>84566047</td>\n",
       "      <td>NaN</td>\n",
       "      <td>70264</td>\n",
       "    </tr>\n",
       "  </tbody>\n",
       "</table>\n",
       "</div>"
      ],
      "text/plain": [
       "       Video ID                  Date  \\\n",
       "38  a16gTN7kOWU  2016-03-11T09:00:01Z   \n",
       "39  LYAcYSmaLoc  2015-12-02T06:00:01Z   \n",
       "42  ULStzgQYrqk  2015-06-17T03:00:01Z   \n",
       "43  TTG6nxwdhyA  2015-06-05T03:00:00Z   \n",
       "\n",
       "                                                Title  \\\n",
       "38      BTS (防弾少年団) 'RUN -Japanese Ver.-' Official MV   \n",
       "39  BTS (防弾少年団) 'I NEED U (Japanese Ver.)' Officia...   \n",
       "42     BTS (防弾少年団) 'FOR YOU' Official MV (Dance Ver.)   \n",
       "43                  BTS (防弾少年団) 'FOR YOU' Official MV   \n",
       "\n",
       "                                          Description Duration  \\\n",
       "38  防弾少年団、3月15日発売の日本6thシングル RUN -Japanese Ver.- のM...  PT3M56S   \n",
       "39  防弾少年団、12月8日発売の日本5thシングル I NEED U (Japanese Ver...  PT3M40S   \n",
       "42  防弾少年団、6月17日発売の日本4thシングル「FOR YOU」のミュージックビデオのダンス...  PT4M46S   \n",
       "43  防弾少年団、6月17日発売の日本4thシングル「FOR YOU」のミュージックビデオ。\\nオ...   PT5M7S   \n",
       "\n",
       "   Number of Views Number of Likes Number of Comments  \n",
       "38        29981629             NaN              27571  \n",
       "39        48225529             NaN              24660  \n",
       "42        28138590             NaN              16225  \n",
       "43        84566047             NaN              70264  "
      ]
     },
     "execution_count": 3,
     "metadata": {},
     "output_type": "execute_result"
    }
   ],
   "source": [
    "# check rows containing null values\n",
    "df[df.isna().any(axis = 1)]"
   ]
  },
  {
   "cell_type": "markdown",
   "metadata": {},
   "source": [
    "There are null values for some entries because the number of likes for some videos was not made publicly available. Since the 'Number of Likes' column is independent of other factors, we cannot fill in the missing values. Because of this, we will be dropping the rows containing null values. "
   ]
  },
  {
   "cell_type": "code",
   "execution_count": 4,
   "metadata": {},
   "outputs": [
    {
     "name": "stdout",
     "output_type": "stream",
     "text": [
      "<class 'pandas.core.frame.DataFrame'>\n",
      "Int64Index: 51 entries, 0 to 54\n",
      "Data columns (total 8 columns):\n",
      " #   Column              Non-Null Count  Dtype \n",
      "---  ------              --------------  ----- \n",
      " 0   Video ID            51 non-null     object\n",
      " 1   Date                51 non-null     object\n",
      " 2   Title               51 non-null     object\n",
      " 3   Description         51 non-null     object\n",
      " 4   Duration            51 non-null     object\n",
      " 5   Number of Views     51 non-null     object\n",
      " 6   Number of Likes     51 non-null     object\n",
      " 7   Number of Comments  51 non-null     object\n",
      "dtypes: object(8)\n",
      "memory usage: 3.6+ KB\n"
     ]
    }
   ],
   "source": [
    "df = df.dropna()\n",
    "\n",
    "df.info()"
   ]
  },
  {
   "cell_type": "markdown",
   "metadata": {},
   "source": [
    "Currently, all the columns have object data types. We must convert the 'Date' column into a datetime data type, the 'Duration' column into a timedelta datatype, and the 'Number of Views', 'Number of Likes', and 'Number of Comments' columns into integer datatypes."
   ]
  },
  {
   "cell_type": "code",
   "execution_count": 5,
   "metadata": {},
   "outputs": [
    {
     "name": "stdout",
     "output_type": "stream",
     "text": [
      "<class 'pandas.core.frame.DataFrame'>\n",
      "RangeIndex: 51 entries, 0 to 50\n",
      "Data columns (total 8 columns):\n",
      " #   Column              Non-Null Count  Dtype              \n",
      "---  ------              --------------  -----              \n",
      " 0   Video ID            51 non-null     object             \n",
      " 1   Date                51 non-null     datetime64[ns, UTC]\n",
      " 2   Title               51 non-null     object             \n",
      " 3   Description         51 non-null     object             \n",
      " 4   Duration            51 non-null     timedelta64[ns]    \n",
      " 5   Number of Views     51 non-null     int64              \n",
      " 6   Number of Likes     51 non-null     int64              \n",
      " 7   Number of Comments  51 non-null     int64              \n",
      "dtypes: datetime64[ns, UTC](1), int64(3), object(3), timedelta64[ns](1)\n",
      "memory usage: 3.3+ KB\n"
     ]
    }
   ],
   "source": [
    "df['Date'] = pd.to_datetime(df['Date'])\n",
    "df = df.sort_values(['Date']).reset_index(drop = True)\n",
    "\n",
    "df['Duration'] = pd.to_timedelta(df['Duration'])\n",
    "\n",
    "for column in ['Number of Views', 'Number of Likes','Number of Comments']:\n",
    "    df[column] = pd.to_numeric(df[column], errors = 'coerce')\n",
    "\n",
    "df.info()"
   ]
  },
  {
   "cell_type": "markdown",
   "metadata": {},
   "source": [
    "Lastly, we must remove the artist name and the word 'Official MV' from the video titles since it is already known that we will be looking at official music videos from the artist BTS."
   ]
  },
  {
   "cell_type": "code",
   "execution_count": 6,
   "metadata": {},
   "outputs": [
    {
     "data": {
      "text/plain": [
       "array([\"BTS (방탄소년단) 'No More Dream' Official MV\",\n",
       "       \"BTS (방탄소년단) 'No More Dream' Official MV (Choreography Version)\",\n",
       "       \"BTS (방탄소년단) 'We Are Bulletproof Pt.2' Official MV\",\n",
       "       \"BTS (방탄소년단) 'N.O' Official MV\",\n",
       "       \"BTS (방탄소년단) '상남자 (Boy In Luv)' Official MV\",\n",
       "       \"BTS (방탄소년단) '상남자 (Boy In Luv)' Official MV (Choreography Version)\",\n",
       "       \"BTS (방탄소년단) '하루만 (Just one day)' Official MV\",\n",
       "       \"BTS (방탄소년단) 'Danger' Official MV\",\n",
       "       \"BTS (방탄소년단) '호르몬전쟁' Official MV\",\n",
       "       \"BTS (방탄소년단) 'I NEED U' Official MV\",\n",
       "       \"BTS (방탄소년단) 'I NEED U' Official MV (Original ver.)\",\n",
       "       \"BTS (방탄소년단) '쩔어' Official MV\", \"BTS (방탄소년단) 'RUN' Official MV\",\n",
       "       \"BTS (방탄소년단) 'EPILOGUE : Young Forever' Official MV\",\n",
       "       \"BTS (방탄소년단) '불타오르네 (FIRE)' Official MV\",\n",
       "       \"BTS (방탄소년단) '불타오르네 (FIRE)' Official MV (Choreography Version)\",\n",
       "       \"BTS (방탄소년단) 'Save ME' Official MV\",\n",
       "       \"BTS (방탄소년단) '피 땀 눈물 (Blood Sweat & Tears)' Official MV\",\n",
       "       \"BTS (방탄소년단) '봄날 (Spring Day)' Official MV\",\n",
       "       \"BTS (방탄소년단) 'Not Today' Official MV\",\n",
       "       \"BTS (방탄소년단) 'Not Today' Official MV (Choreography Version)\",\n",
       "       \"BTS (防弾少年団) '血、汗、涙 -Japanese Ver.-' Official MV\",\n",
       "       \"BTS (방탄소년단) 'DNA' Official MV\",\n",
       "       \"BTS (防弾少年団) 'MIC Drop -Japanese ver.-' (Short ver.) Official MV\",\n",
       "       \"BTS (방탄소년단) 'MIC Drop (Steve Aoki Remix)' Official MV\",\n",
       "       \"BTS (防弾少年団) 'MIC Drop -Japanese ver.-' Official MV\",\n",
       "       \"BTS (방탄소년단) 'FAKE LOVE' Official MV\",\n",
       "       \"BTS (방탄소년단) 'FAKE LOVE' Official MV (Extended ver.)\",\n",
       "       \"BTS (방탄소년단) 'IDOL' Official MV\",\n",
       "       \"BTS (방탄소년단) 'IDOL (Feat. Nicki Minaj)' Official MV\",\n",
       "       \"BTS (防弾少年団) 'Airplane pt.2 -Japanese ver.-' Official MV\",\n",
       "       \"BTS (방탄소년단) '작은 것들을 위한 시 (Boy With Luv) (feat. Halsey)' Official MV\",\n",
       "       \"BTS (방탄소년단) '작은 것들을 위한 시 (Boy With Luv) (feat. Halsey)' Official MV ('ARMY With Luv' ver.)\",\n",
       "       \"BTS 'Lights' Official MV\",\n",
       "       \"BTS (방탄소년단) 'Make It Right (feat. Lauv)' Official MV\",\n",
       "       \"BTS (방탄소년단) 'Make It Right' Official MV (Vertical ver.)\",\n",
       "       \"BTS (방탄소년단) 'ON' Official MV\",\n",
       "       \"BTS (방탄소년단) 'Black Swan' Official MV\",\n",
       "       \"BTS (방탄소년단) 'Stay Gold' Official MV\",\n",
       "       \"BTS (방탄소년단) 'Dynamite' Official MV\",\n",
       "       \"BTS (방탄소년단) 'Dynamite' Official MV (B-side)\",\n",
       "       \"BTS (방탄소년단) 'Dynamite' Official MV (Choreography ver.)\",\n",
       "       \"BTS (방탄소년단) 'Life Goes On' Official MV\",\n",
       "       'BTS (방탄소년단) ‘Life Goes On’ Official MV : on my pillow',\n",
       "       \"BTS (방탄소년단) 'Life Goes On' Official MV : in the forest\",\n",
       "       \"BTS (방탄소년단) 'Life Goes On' Official MV : like an arrow\",\n",
       "       \"BTS (방탄소년단) 'Film out' Official MV\",\n",
       "       \"BTS (방탄소년단) 'Butter' Official MV\",\n",
       "       \"BTS (방탄소년단) 'Butter (Hotter Remix)' Official MV\",\n",
       "       \"BTS (방탄소년단) 'Butter (Cooler Remix)' Official MV\",\n",
       "       \"BTS (방탄소년단) 'Permission to Dance' Official MV\"], dtype=object)"
      ]
     },
     "execution_count": 6,
     "metadata": {},
     "output_type": "execute_result"
    }
   ],
   "source": [
    "df['Title'].values"
   ]
  },
  {
   "cell_type": "code",
   "execution_count": 7,
   "metadata": {},
   "outputs": [
    {
     "data": {
      "text/plain": [
       "array(['No More Dream', 'No More Dream (Choreography Version)',\n",
       "       'We Are Bulletproof Pt.2', 'N.O', '상남자 (Boy In Luv)',\n",
       "       '상남자 (Boy In Luv) (Choreography Version)', '하루만 (Just one day)',\n",
       "       'Danger', '호르몬전쟁', 'I NEED U', 'I NEED U (Original ver.)', '쩔어',\n",
       "       'RUN', 'EPILOGUE : Young Forever', '불타오르네 (FIRE)',\n",
       "       '불타오르네 (FIRE) (Choreography Version)', 'Save ME',\n",
       "       '피 땀 눈물 (Blood Sweat & Tears)', '봄날 (Spring Day)', 'Not Today',\n",
       "       'Not Today (Choreography Version)', '血、汗、涙 -Japanese Ver.-', 'DNA',\n",
       "       'MIC Drop -Japanese ver.-', 'MIC Drop (Steve Aoki Remix)',\n",
       "       'MIC Drop -Japanese ver.-', 'FAKE LOVE',\n",
       "       'FAKE LOVE (Extended ver.)', 'IDOL', 'IDOL (Feat. Nicki Minaj)',\n",
       "       'Airplane pt.2 -Japanese ver.-',\n",
       "       '작은 것들을 위한 시 (Boy With Luv) (feat. Halsey)',\n",
       "       \"작은 것들을 위한 시 (Boy With Luv) (feat. Halsey) ('ARMY With Luv' ver.)\",\n",
       "       'Lights', 'Make It Right (feat. Lauv)',\n",
       "       'Make It Right (Vertical ver.)', 'ON', 'Black Swan', 'Stay Gold',\n",
       "       'Dynamite', 'Dynamite (B-side)', 'Dynamite (Choreography ver.)',\n",
       "       'Life Goes On', 'Life Goes On : on my pillow',\n",
       "       'Life Goes On : in the forest', 'Life Goes On : like an arrow',\n",
       "       'Film out', 'Butter', 'Butter (Hotter Remix)',\n",
       "       'Butter (Cooler Remix)', 'Permission to Dance'], dtype=object)"
      ]
     },
     "execution_count": 7,
     "metadata": {},
     "output_type": "execute_result"
    }
   ],
   "source": [
    "for index, raw_title in enumerate(df['Title']):\n",
    "    \n",
    "    split_title = re.split('Official MV', raw_title)\n",
    "    title = re.search(r'(?<= \\')(.*)(?=\\' )|(?<= ‘)(.*)(?=’ )',split_title [0]).group()\n",
    "    clean_title = f'{title}{split_title[1]}'\n",
    "    df.iloc[index, 2] = clean_title\n",
    "\n",
    "df['Title'].values"
   ]
  }
 ],
 "metadata": {
  "interpreter": {
   "hash": "624756d9432f815235ae1135a385af0a464c16bca7e983fce09d6b446c9091b0"
  },
  "kernelspec": {
   "display_name": "Python 3.10.1 64-bit ('data_science': venv)",
   "language": "python",
   "name": "python3"
  },
  "language_info": {
   "codemirror_mode": {
    "name": "ipython",
    "version": 3
   },
   "file_extension": ".py",
   "mimetype": "text/x-python",
   "name": "python",
   "nbconvert_exporter": "python",
   "pygments_lexer": "ipython3",
   "version": "3.9.9"
  },
  "orig_nbformat": 4
 },
 "nbformat": 4,
 "nbformat_minor": 2
}
